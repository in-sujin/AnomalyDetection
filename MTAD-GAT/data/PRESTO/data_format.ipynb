{
 "cells": [
  {
   "cell_type": "code",
   "execution_count": 49,
   "id": "48b1713a-d1ef-454e-b3cb-5cca4c23c00a",
   "metadata": {},
   "outputs": [],
   "source": [
    "import os\n",
    "import glob\n",
    "import pickle\n",
    "import numpy as np\n",
    "import matplotlib.pylab as plt\n",
    "import scipy.io\n",
    "import pandas as pd"
   ]
  },
  {
   "cell_type": "code",
   "execution_count": 50,
   "id": "00ca7051-e681-4972-b7c3-90d89ef0e3ea",
   "metadata": {},
   "outputs": [
    {
     "data": {
      "text/plain": [
       "'/mtad-gat/data/SWAT/data'"
      ]
     },
     "execution_count": 50,
     "metadata": {},
     "output_type": "execute_result"
    }
   ],
   "source": [
    "pwd"
   ]
  },
  {
   "cell_type": "code",
   "execution_count": 51,
   "id": "0119cadb-9ee4-4ff4-8a6e-7f9ee3655bb1",
   "metadata": {},
   "outputs": [
    {
     "name": "stdout",
     "output_type": "stream",
     "text": [
      "/mtad-gat/data/PRESTO\n"
     ]
    },
    {
     "name": "stderr",
     "output_type": "stream",
     "text": [
      "/opt/conda/lib/python3.10/site-packages/IPython/core/magics/osm.py:417: UserWarning: using dhist requires you to install the `pickleshare` library.\n",
      "  self.shell.db['dhist'] = compress_dhist(dhist)[-100:]\n"
     ]
    }
   ],
   "source": [
    "cd /mtad-gat/data/PRESTO/"
   ]
  },
  {
   "cell_type": "code",
   "execution_count": 52,
   "id": "d5f2241c-5964-4723-9bba-0d52ad0ad013",
   "metadata": {},
   "outputs": [
    {
     "data": {
      "text/plain": [
       "'/mtad-gat/data/PRESTO'"
      ]
     },
     "execution_count": 52,
     "metadata": {},
     "output_type": "execute_result"
    }
   ],
   "source": [
    "pwd"
   ]
  },
  {
   "cell_type": "markdown",
   "id": "c660dfca-76f7-4782-8e04-4074e7fe717b",
   "metadata": {},
   "source": [
    "---"
   ]
  },
  {
   "cell_type": "code",
   "execution_count": 3,
   "id": "c986ebc8-c68c-4ba8-a933-07548f00c616",
   "metadata": {},
   "outputs": [],
   "source": [
    "def mat_xz_yz(path):\n",
    "    files = glob.glob(path + \"/*.mat\")\n",
    "    files.sort()\n",
    "\n",
    "    xz_mats = []\n",
    "    yz_mats = []\n",
    "    for file in files:\n",
    "        if file.find(\"XZ\") != -1:\n",
    "            mat = scipy.io.loadmat(file)\n",
    "            xz_mats.append(mat)\n",
    "\n",
    "        elif file.find(\"YZ\") != -1:\n",
    "            print(file)\n",
    "            mat = scipy.io.loadmat(file)\n",
    "            yz_mats.append(mat)\n",
    "\n",
    "    return xz_mats, yz_mats"
   ]
  },
  {
   "cell_type": "code",
   "execution_count": 4,
   "id": "a6e802fe-ba4f-4d66-ae00-b48fb7db9985",
   "metadata": {},
   "outputs": [],
   "source": [
    "def add_data_to_dataframe(p1_xz, p1_yz, p2_xz, p2_yz, df):\n",
    "    new_data = {\n",
    "        'p1_xz_ho': p1_xz['yDataCurrentAxes1_tim'].flatten(),\n",
    "        'p1_xz_ve': p1_xz['yDataCurrentAxes2_tim'].flatten(),\n",
    "        'p1_yz_ho': p1_yz['yDataCurrentAxes1_tim'].flatten(),\n",
    "        'p1_yz_ve': p1_yz['yDataCurrentAxes2_tim'].flatten(),\n",
    "        'p2_xz_ho': p2_xz['yDataCurrentAxes1_tim'].flatten(),\n",
    "        'p2_xz_ve': p2_xz['yDataCurrentAxes2_tim'].flatten(),\n",
    "        'p2_yz_ho': p2_yz['yDataCurrentAxes1_tim'].flatten(),\n",
    "        'p2_yz_ve': p2_yz['yDataCurrentAxes2_tim'].flatten()\n",
    "    }\n",
    "    new_df = pd.DataFrame(new_data)\n",
    "    df = pd.concat([df, new_df], ignore_index=True)\n",
    "    return df"
   ]
  },
  {
   "cell_type": "markdown",
   "id": "a41b0563-cead-42a3-a869-73e04db6ac7c",
   "metadata": {},
   "source": [
    "---"
   ]
  },
  {
   "cell_type": "code",
   "execution_count": 5,
   "id": "ff507877-2e79-4e67-8144-36d02c006a82",
   "metadata": {},
   "outputs": [],
   "source": [
    "point1_path = \"P1\"\n",
    "point2_path = \"P2\""
   ]
  },
  {
   "cell_type": "code",
   "execution_count": 6,
   "id": "ac672617-657e-4570-b8fa-a84d06bc7791",
   "metadata": {},
   "outputs": [
    {
     "name": "stdout",
     "output_type": "stream",
     "text": [
      "P1/[1][YZ][Time-PSD][IOS On][Stage OFF]Normal_Measurement time 17sec_Sample rate 4000Hz.mat\n",
      "P1/[2][YZ][Time-PSD][IOS On][Stage OFF]Normal_Measurement time 17sec_Sample rate 4000Hz.mat\n",
      "P1/[3][YZ][Time-PSD][IOS On][Stage OFF]Normal_Measurement time 17sec_Sample rate 4000Hz.mat\n",
      "P1/[4][YZ][Time-PSD][IOS On][Stage OFF]Normal_Measurement time 17sec_Sample rate 4000Hz.mat\n",
      "P1/[5][YZ][Time-PSD][IOS On][Stage OFF]Normal_Measurement time 17sec_Sample rate 4000Hz.mat\n",
      "P1/[6][YZ][Time-PSD][IOS On][Stage OFF]Normal_Measurement time 17sec_Sample rate 4000Hz.mat\n",
      "P1/[7][YZ][Time-PSD][IOS On][Stage OFF]Normal_Measurement time 17sec_Sample rate 4000Hz.mat\n",
      "P1/[8][YZ][Time-PSD][IOS On][Stage OFF]Normal_Measurement time 17sec_Sample rate 4000Hz.mat\n",
      "P2/[1][YZ][Time-PSD][IOS On][Stage OFF]Normal_Measurement time 17sec_Sample rate 4100Hz.mat\n",
      "P2/[2][YZ][Time-PSD][IOS On][Stage OFF]Normal_Measurement time 17sec_Sample rate 4100Hz.mat\n",
      "P2/[3][YZ][Time-PSD][IOS On][Stage OFF]Normal_Measurement time 17sec_Sample rate 4100Hz.mat\n",
      "P2/[4][YZ][Time-PSD][IOS On][Stage OFF]Normal_Measurement time 17sec_Sample rate 4100Hz.mat\n",
      "P2/[5][YZ][Time-PSD][IOS On][Stage OFF]Normal_Measurement time 17sec_Sample rate 4100Hz.mat\n",
      "P2/[6][YZ][Time-PSD][IOS On][Stage OFF]Normal_Measurement time 17sec_Sample rate 4100Hz.mat\n",
      "P2/[7][YZ][Time-PSD][IOS On][Stage OFF]Normal_Measurement time 17sec_Sample rate 4100Hz.mat\n",
      "P2/[8][YZ][Time-PSD][IOS On][Stage OFF]Normal_Measurement time 17sec_Sample rate 4100Hz.mat\n"
     ]
    }
   ],
   "source": [
    "point1_xz_mats, point1_yz_mats = mat_xz_yz(point1_path)\n",
    "point2_xz_mats, point2_yz_mats = mat_xz_yz(point2_path)"
   ]
  },
  {
   "cell_type": "markdown",
   "id": "c31d6421-3d55-48b7-b8be-18582635b95c",
   "metadata": {},
   "source": [
    "<b>DataFrame"
   ]
  },
  {
   "cell_type": "code",
   "execution_count": 7,
   "id": "dd63113e-c895-48d9-be26-27a3743c6ee3",
   "metadata": {},
   "outputs": [],
   "source": [
    "df = pd.DataFrame(columns=['p1_xz_ho', 'p1_xz_ve', 'p1_yz_ho', 'p1_yz_ve',\n",
    "                           'p2_xz_ho', 'p2_xz_ve', 'p2_yz_ho', 'p2_yz_ve'])"
   ]
  },
  {
   "cell_type": "code",
   "execution_count": 8,
   "id": "75773e16-e77f-4ba1-b2a5-924a48ddb3a3",
   "metadata": {},
   "outputs": [
    {
     "name": "stderr",
     "output_type": "stream",
     "text": [
      "/tmp/ipykernel_313/4021337398.py:13: FutureWarning: The behavior of DataFrame concatenation with empty or all-NA entries is deprecated. In a future version, this will no longer exclude empty or all-NA columns when determining the result dtypes. To retain the old behavior, exclude the relevant entries before the concat operation.\n",
      "  df = pd.concat([df, new_df], ignore_index=True)\n"
     ]
    }
   ],
   "source": [
    "for idx in range(len(point1_xz_mats)):\n",
    "    p1_xz, p1_yz, p2_xz, p2_yz = point1_xz_mats[idx], point1_yz_mats[idx], point2_xz_mats[idx], point2_yz_mats[idx]\n",
    "    df = add_data_to_dataframe(p1_xz, p1_yz, p2_xz, p2_yz, df)"
   ]
  },
  {
   "cell_type": "code",
   "execution_count": 9,
   "id": "9bdabcf6-bce5-47e1-a006-48c6dadfbbe6",
   "metadata": {},
   "outputs": [
    {
     "data": {
      "text/plain": [
       "(557600, 8)"
      ]
     },
     "execution_count": 9,
     "metadata": {},
     "output_type": "execute_result"
    }
   ],
   "source": [
    "df.shape"
   ]
  },
  {
   "cell_type": "code",
   "execution_count": 10,
   "id": "ecc6dfec-8492-4c4e-9998-2e8ace78e2ad",
   "metadata": {},
   "outputs": [
    {
     "data": {
      "text/html": [
       "<div>\n",
       "<style scoped>\n",
       "    .dataframe tbody tr th:only-of-type {\n",
       "        vertical-align: middle;\n",
       "    }\n",
       "\n",
       "    .dataframe tbody tr th {\n",
       "        vertical-align: top;\n",
       "    }\n",
       "\n",
       "    .dataframe thead th {\n",
       "        text-align: right;\n",
       "    }\n",
       "</style>\n",
       "<table border=\"1\" class=\"dataframe\">\n",
       "  <thead>\n",
       "    <tr style=\"text-align: right;\">\n",
       "      <th></th>\n",
       "      <th>p1_xz_ho</th>\n",
       "      <th>p1_xz_ve</th>\n",
       "      <th>p1_yz_ho</th>\n",
       "      <th>p1_yz_ve</th>\n",
       "      <th>p2_xz_ho</th>\n",
       "      <th>p2_xz_ve</th>\n",
       "      <th>p2_yz_ho</th>\n",
       "      <th>p2_yz_ve</th>\n",
       "    </tr>\n",
       "  </thead>\n",
       "  <tbody>\n",
       "    <tr>\n",
       "      <th>0</th>\n",
       "      <td>0.001466</td>\n",
       "      <td>0.003326</td>\n",
       "      <td>0.000536</td>\n",
       "      <td>0.002396</td>\n",
       "      <td>-0.000394</td>\n",
       "      <td>0.002396</td>\n",
       "      <td>0.000226</td>\n",
       "      <td>0.002396</td>\n",
       "    </tr>\n",
       "    <tr>\n",
       "      <th>1</th>\n",
       "      <td>0.001466</td>\n",
       "      <td>0.009836</td>\n",
       "      <td>-0.000394</td>\n",
       "      <td>0.002396</td>\n",
       "      <td>0.000536</td>\n",
       "      <td>0.002706</td>\n",
       "      <td>0.000846</td>\n",
       "      <td>0.002706</td>\n",
       "    </tr>\n",
       "    <tr>\n",
       "      <th>2</th>\n",
       "      <td>0.003946</td>\n",
       "      <td>0.009526</td>\n",
       "      <td>-0.000394</td>\n",
       "      <td>-0.001014</td>\n",
       "      <td>0.000226</td>\n",
       "      <td>0.000846</td>\n",
       "      <td>-0.000704</td>\n",
       "      <td>0.000846</td>\n",
       "    </tr>\n",
       "    <tr>\n",
       "      <th>3</th>\n",
       "      <td>0.004566</td>\n",
       "      <td>0.007666</td>\n",
       "      <td>-0.001634</td>\n",
       "      <td>0.001776</td>\n",
       "      <td>-0.000394</td>\n",
       "      <td>0.000226</td>\n",
       "      <td>-0.000704</td>\n",
       "      <td>0.001466</td>\n",
       "    </tr>\n",
       "    <tr>\n",
       "      <th>4</th>\n",
       "      <td>0.005186</td>\n",
       "      <td>0.008906</td>\n",
       "      <td>0.004256</td>\n",
       "      <td>0.006426</td>\n",
       "      <td>0.000226</td>\n",
       "      <td>0.001776</td>\n",
       "      <td>0.000226</td>\n",
       "      <td>0.002086</td>\n",
       "    </tr>\n",
       "  </tbody>\n",
       "</table>\n",
       "</div>"
      ],
      "text/plain": [
       "   p1_xz_ho  p1_xz_ve  p1_yz_ho  p1_yz_ve  p2_xz_ho  p2_xz_ve  p2_yz_ho  \\\n",
       "0  0.001466  0.003326  0.000536  0.002396 -0.000394  0.002396  0.000226   \n",
       "1  0.001466  0.009836 -0.000394  0.002396  0.000536  0.002706  0.000846   \n",
       "2  0.003946  0.009526 -0.000394 -0.001014  0.000226  0.000846 -0.000704   \n",
       "3  0.004566  0.007666 -0.001634  0.001776 -0.000394  0.000226 -0.000704   \n",
       "4  0.005186  0.008906  0.004256  0.006426  0.000226  0.001776  0.000226   \n",
       "\n",
       "   p2_yz_ve  \n",
       "0  0.002396  \n",
       "1  0.002706  \n",
       "2  0.000846  \n",
       "3  0.001466  \n",
       "4  0.002086  "
      ]
     },
     "execution_count": 10,
     "metadata": {},
     "output_type": "execute_result"
    }
   ],
   "source": [
    "df.head()"
   ]
  },
  {
   "cell_type": "code",
   "execution_count": 12,
   "id": "a23ade4e-23cc-489c-870f-ff5fb4b0c5e1",
   "metadata": {},
   "outputs": [
    {
     "data": {
      "text/plain": [
       "numpy.float64"
      ]
     },
     "execution_count": 12,
     "metadata": {},
     "output_type": "execute_result"
    }
   ],
   "source": [
    "type(df['p1_xz_ho'][0])"
   ]
  },
  {
   "cell_type": "markdown",
   "id": "f0b7bdc0-26e2-4687-9792-df10004c8cdd",
   "metadata": {},
   "source": [
    "<b> Save"
   ]
  },
  {
   "cell_type": "markdown",
   "id": "1728ca7f-df41-41f4-a9a3-44a2807709e8",
   "metadata": {},
   "source": [
    "CSV file"
   ]
  },
  {
   "cell_type": "code",
   "execution_count": 8,
   "id": "b23256f6-2a38-45d9-9269-34406b40dfd3",
   "metadata": {},
   "outputs": [],
   "source": [
    "s = 'csv'"
   ]
  },
  {
   "cell_type": "code",
   "execution_count": 9,
   "id": "6c5cda45-3ba5-46fd-bd4f-974b9eb617bf",
   "metadata": {},
   "outputs": [
    {
     "data": {
      "text/plain": [
       "True"
      ]
     },
     "execution_count": 9,
     "metadata": {},
     "output_type": "execute_result"
    }
   ],
   "source": [
    "s == 'csv'"
   ]
  },
  {
   "cell_type": "code",
   "execution_count": 47,
   "id": "62b7403a-2bf5-425b-ad43-1b9ea60706f0",
   "metadata": {},
   "outputs": [],
   "source": [
    "output_path = 'train/train.csv'\n",
    "df.to_csv(output_path, index=False)"
   ]
  },
  {
   "cell_type": "markdown",
   "id": "6f6fdbc3-f31f-4d31-a75e-ab6cf011a0f5",
   "metadata": {},
   "source": [
    "PKL file"
   ]
  },
  {
   "cell_type": "code",
   "execution_count": 11,
   "id": "c324a864-8e03-4c8b-bdff-65ae1a29b690",
   "metadata": {},
   "outputs": [],
   "source": [
    "output_path = 'data/train.pkl'\n",
    "df.to_pickle(output_path)"
   ]
  },
  {
   "cell_type": "markdown",
   "id": "33103d9b-1dde-478c-910c-1b98dd64fabd",
   "metadata": {},
   "source": [
    "MAT file"
   ]
  },
  {
   "cell_type": "code",
   "execution_count": 43,
   "id": "bf2a7d9e-30bb-4f42-bbdc-e770e2823dbc",
   "metadata": {},
   "outputs": [],
   "source": [
    "output_path = 'train/train.mat'\n",
    "scipy.io.savemat(output_path, {\n",
    "        'p1_xz_ho': p1_xz['yDataCurrentAxes1_tim'].flatten(),\n",
    "        'p1_xz_ve': p1_xz['yDataCurrentAxes2_tim'].flatten(),\n",
    "        'p1_yz_ho': p1_yz['yDataCurrentAxes1_tim'].flatten(),\n",
    "        'p1_yz_ve': p1_yz['yDataCurrentAxes2_tim'].flatten(),\n",
    "        'p2_xz_ho': p2_xz['yDataCurrentAxes1_tim'].flatten(),\n",
    "        'p2_xz_ve': p2_xz['yDataCurrentAxes2_tim'].flatten(),\n",
    "        'p2_yz_ho': p2_yz['yDataCurrentAxes1_tim'].flatten(),\n",
    "        'p2_yz_ve': p2_yz['yDataCurrentAxes2_tim'].flatten()\n",
    "    })"
   ]
  },
  {
   "cell_type": "markdown",
   "id": "63ed0855-1b96-4ae1-add3-8a6250e482f8",
   "metadata": {},
   "source": [
    "---"
   ]
  },
  {
   "cell_type": "markdown",
   "id": "ba26b67f-3fb4-4cbd-8d76-2e84dc8dd1c6",
   "metadata": {},
   "source": [
    "<b>TEST"
   ]
  },
  {
   "cell_type": "code",
   "execution_count": 53,
   "id": "cf578d6f-41b9-4af6-8497-2d1f5f749a33",
   "metadata": {},
   "outputs": [],
   "source": [
    "file = 'test_anomaly.mat'\n",
    "test_mat = scipy.io.loadmat(file)"
   ]
  },
  {
   "cell_type": "code",
   "execution_count": 54,
   "id": "068f9e48-0afb-495f-905b-4c3013ab6b55",
   "metadata": {},
   "outputs": [
    {
     "data": {
      "text/plain": [
       "{'__header__': b'MATLAB 5.0 MAT-file Platform: posix, Created on: Thu Jun 27 14:00:10 2024',\n",
       " '__version__': '1.0',\n",
       " '__globals__': [],\n",
       " 'data_with_anomalies': array([[-3.93942146e-04,  8.45999922e-04,  2.26028888e-04, ...,\n",
       "         -8.39566294e-05,  5.80576821e-03,  9.83557996e-03],\n",
       "        [-1.01391318e-03,  1.15598544e-03, -8.39566294e-05, ...,\n",
       "          8.45999922e-04,  6.73572477e-03,  8.28565236e-03],\n",
       "        [-1.01391318e-03,  2.08594199e-03, -3.93942146e-04, ...,\n",
       "          2.39592751e-03,  6.42573925e-03,  9.21560892e-03],\n",
       "        ...,\n",
       "        [ 1.46597096e-03, -8.39566294e-05,  8.45999922e-04, ...,\n",
       "          1.77595647e-03, -8.39566294e-05,  1.77595647e-03],\n",
       "        [ 8.45999922e-04,  4.87581165e-03, -3.93942146e-04, ...,\n",
       "         -8.39566294e-05,  8.45999922e-04, -3.93942146e-04],\n",
       "        [ 2.26028888e-04,  3.32588406e-03, -1.63388421e-03, ...,\n",
       "          2.08594199e-03,  8.45999922e-04,  3.63586958e-03]])}"
      ]
     },
     "execution_count": 54,
     "metadata": {},
     "output_type": "execute_result"
    }
   ],
   "source": [
    "test_mat"
   ]
  },
  {
   "cell_type": "code",
   "execution_count": 55,
   "id": "acd554d6-0f7d-4770-927c-cb34776fb27a",
   "metadata": {},
   "outputs": [],
   "source": [
    "test_df = pd.DataFrame(test_mat['data_with_anomalies'], columns=['p1_xz_ho', 'p1_xz_ve', 'p1_yz_ho', 'p1_yz_ve',\n",
    "                                                                 'p2_xz_ho', 'p2_xz_ve', 'p2_yz_ho', 'p2_yz_ve'])"
   ]
  },
  {
   "cell_type": "code",
   "execution_count": 57,
   "id": "5cbcbe43-3253-4f54-8f97-83120db43a0b",
   "metadata": {},
   "outputs": [
    {
     "data": {
      "text/html": [
       "<div>\n",
       "<style scoped>\n",
       "    .dataframe tbody tr th:only-of-type {\n",
       "        vertical-align: middle;\n",
       "    }\n",
       "\n",
       "    .dataframe tbody tr th {\n",
       "        vertical-align: top;\n",
       "    }\n",
       "\n",
       "    .dataframe thead th {\n",
       "        text-align: right;\n",
       "    }\n",
       "</style>\n",
       "<table border=\"1\" class=\"dataframe\">\n",
       "  <thead>\n",
       "    <tr style=\"text-align: right;\">\n",
       "      <th></th>\n",
       "      <th>p1_xz_ho</th>\n",
       "      <th>p1_xz_ve</th>\n",
       "      <th>p1_yz_ho</th>\n",
       "      <th>p1_yz_ve</th>\n",
       "      <th>p2_xz_ho</th>\n",
       "      <th>p2_xz_ve</th>\n",
       "      <th>p2_yz_ho</th>\n",
       "      <th>p2_yz_ve</th>\n",
       "    </tr>\n",
       "  </thead>\n",
       "  <tbody>\n",
       "    <tr>\n",
       "      <th>0</th>\n",
       "      <td>-0.000394</td>\n",
       "      <td>0.000846</td>\n",
       "      <td>0.000226</td>\n",
       "      <td>0.002706</td>\n",
       "      <td>0.000226</td>\n",
       "      <td>-0.000084</td>\n",
       "      <td>0.005806</td>\n",
       "      <td>0.009836</td>\n",
       "    </tr>\n",
       "    <tr>\n",
       "      <th>1</th>\n",
       "      <td>-0.001014</td>\n",
       "      <td>0.001156</td>\n",
       "      <td>-0.000084</td>\n",
       "      <td>0.002706</td>\n",
       "      <td>-0.001014</td>\n",
       "      <td>0.000846</td>\n",
       "      <td>0.006736</td>\n",
       "      <td>0.008286</td>\n",
       "    </tr>\n",
       "    <tr>\n",
       "      <th>2</th>\n",
       "      <td>-0.001014</td>\n",
       "      <td>0.002086</td>\n",
       "      <td>-0.000394</td>\n",
       "      <td>0.001776</td>\n",
       "      <td>-0.001944</td>\n",
       "      <td>0.002396</td>\n",
       "      <td>0.006426</td>\n",
       "      <td>0.009216</td>\n",
       "    </tr>\n",
       "    <tr>\n",
       "      <th>3</th>\n",
       "      <td>-0.000394</td>\n",
       "      <td>0.001466</td>\n",
       "      <td>-0.004114</td>\n",
       "      <td>0.005186</td>\n",
       "      <td>-0.001014</td>\n",
       "      <td>0.001776</td>\n",
       "      <td>0.004566</td>\n",
       "      <td>0.009216</td>\n",
       "    </tr>\n",
       "    <tr>\n",
       "      <th>4</th>\n",
       "      <td>0.000846</td>\n",
       "      <td>-0.000394</td>\n",
       "      <td>-0.004114</td>\n",
       "      <td>0.003016</td>\n",
       "      <td>0.000846</td>\n",
       "      <td>0.000846</td>\n",
       "      <td>0.006116</td>\n",
       "      <td>0.007046</td>\n",
       "    </tr>\n",
       "  </tbody>\n",
       "</table>\n",
       "</div>"
      ],
      "text/plain": [
       "   p1_xz_ho  p1_xz_ve  p1_yz_ho  p1_yz_ve  p2_xz_ho  p2_xz_ve  p2_yz_ho  \\\n",
       "0 -0.000394  0.000846  0.000226  0.002706  0.000226 -0.000084  0.005806   \n",
       "1 -0.001014  0.001156 -0.000084  0.002706 -0.001014  0.000846  0.006736   \n",
       "2 -0.001014  0.002086 -0.000394  0.001776 -0.001944  0.002396  0.006426   \n",
       "3 -0.000394  0.001466 -0.004114  0.005186 -0.001014  0.001776  0.004566   \n",
       "4  0.000846 -0.000394 -0.004114  0.003016  0.000846  0.000846  0.006116   \n",
       "\n",
       "   p2_yz_ve  \n",
       "0  0.009836  \n",
       "1  0.008286  \n",
       "2  0.009216  \n",
       "3  0.009216  \n",
       "4  0.007046  "
      ]
     },
     "execution_count": 57,
     "metadata": {},
     "output_type": "execute_result"
    }
   ],
   "source": [
    "test_df.head()"
   ]
  },
  {
   "cell_type": "code",
   "execution_count": 59,
   "id": "4155d779-22c7-4480-8430-0105f248b258",
   "metadata": {},
   "outputs": [],
   "source": [
    "file = 'test_anomaly_label.mat'\n",
    "label_mat = scipy.io.loadmat(file)"
   ]
  },
  {
   "cell_type": "code",
   "execution_count": 60,
   "id": "640784e4-6787-400e-bc97-76781e9d6466",
   "metadata": {},
   "outputs": [
    {
     "data": {
      "text/plain": [
       "{'__header__': b'MATLAB 5.0 MAT-file Platform: posix, Created on: Thu Jun 27 14:14:57 2024',\n",
       " '__version__': '1.0',\n",
       " '__globals__': [],\n",
       " 'point': array([[19810,     6],\n",
       "        [ 5039,     0],\n",
       "        [28096,     4],\n",
       "        [54197,     5],\n",
       "        [19929,     7]], dtype=int32),\n",
       " 'contextual': array([[43050,     4],\n",
       "        [43051,     4],\n",
       "        [43052,     4],\n",
       "        ...,\n",
       "        [12758,     3],\n",
       "        [12759,     3],\n",
       "        [12760,     3]], dtype=int32)}"
      ]
     },
     "execution_count": 60,
     "metadata": {},
     "output_type": "execute_result"
    }
   ],
   "source": [
    "label_mat"
   ]
  },
  {
   "cell_type": "code",
   "execution_count": 61,
   "id": "b3f30361-4fc3-494a-9e08-9e58ab4cd394",
   "metadata": {},
   "outputs": [],
   "source": [
    "combined_anomalies = np.vstack((label_mat['point'], label_mat['contextual']))"
   ]
  },
  {
   "cell_type": "code",
   "execution_count": 69,
   "id": "c4113c21-f11a-4a61-84e4-58b8cf4524d4",
   "metadata": {},
   "outputs": [],
   "source": [
    "zero_list = np.zeros(len(test_df), dtype=int)"
   ]
  },
  {
   "cell_type": "code",
   "execution_count": 71,
   "id": "2d96eff0-d04c-4288-bd7d-0ee0fa356d1d",
   "metadata": {},
   "outputs": [],
   "source": [
    "label_df = pd.DataFrame(zero_list, columns=['attack'])"
   ]
  },
  {
   "cell_type": "code",
   "execution_count": 72,
   "id": "8590cab4-4a05-4b5a-af8f-9a18944308a9",
   "metadata": {},
   "outputs": [],
   "source": [
    "for anomaly in combined_anomalies:\n",
    "    position, feature = anomaly\n",
    "    label_df.loc[position, 'attack'] = 1"
   ]
  },
  {
   "cell_type": "code",
   "execution_count": 75,
   "id": "a9c55f6c-4dad-409b-9009-18e0b6ecaa27",
   "metadata": {},
   "outputs": [
    {
     "data": {
      "text/html": [
       "<div>\n",
       "<style scoped>\n",
       "    .dataframe tbody tr th:only-of-type {\n",
       "        vertical-align: middle;\n",
       "    }\n",
       "\n",
       "    .dataframe tbody tr th {\n",
       "        vertical-align: top;\n",
       "    }\n",
       "\n",
       "    .dataframe thead th {\n",
       "        text-align: right;\n",
       "    }\n",
       "</style>\n",
       "<table border=\"1\" class=\"dataframe\">\n",
       "  <thead>\n",
       "    <tr style=\"text-align: right;\">\n",
       "      <th></th>\n",
       "      <th>attack</th>\n",
       "    </tr>\n",
       "  </thead>\n",
       "  <tbody>\n",
       "    <tr>\n",
       "      <th>0</th>\n",
       "      <td>0</td>\n",
       "    </tr>\n",
       "    <tr>\n",
       "      <th>1</th>\n",
       "      <td>0</td>\n",
       "    </tr>\n",
       "    <tr>\n",
       "      <th>2</th>\n",
       "      <td>0</td>\n",
       "    </tr>\n",
       "    <tr>\n",
       "      <th>3</th>\n",
       "      <td>0</td>\n",
       "    </tr>\n",
       "    <tr>\n",
       "      <th>4</th>\n",
       "      <td>0</td>\n",
       "    </tr>\n",
       "  </tbody>\n",
       "</table>\n",
       "</div>"
      ],
      "text/plain": [
       "   attack\n",
       "0       0\n",
       "1       0\n",
       "2       0\n",
       "3       0\n",
       "4       0"
      ]
     },
     "execution_count": 75,
     "metadata": {},
     "output_type": "execute_result"
    }
   ],
   "source": [
    "label_df.head()"
   ]
  },
  {
   "cell_type": "code",
   "execution_count": 76,
   "id": "8ad8d08a-41a9-42e7-a97f-6c18c14b9966",
   "metadata": {},
   "outputs": [],
   "source": [
    "test_opath = 'data/test.pkl'\n",
    "test_df.to_pickle(test_opath)"
   ]
  },
  {
   "cell_type": "code",
   "execution_count": 78,
   "id": "587a1344-bbcc-4791-855e-1a12998b4099",
   "metadata": {},
   "outputs": [],
   "source": [
    "label_opath = 'data/test_labels.pkl'\n",
    "label_df.to_pickle(label_opath)"
   ]
  },
  {
   "cell_type": "code",
   "execution_count": null,
   "id": "24b15ec1-ec8a-4909-a0fc-d5f5d138e72a",
   "metadata": {},
   "outputs": [],
   "source": []
  }
 ],
 "metadata": {
  "kernelspec": {
   "display_name": "Python 3 (ipykernel)",
   "language": "python",
   "name": "python3"
  },
  "language_info": {
   "codemirror_mode": {
    "name": "ipython",
    "version": 3
   },
   "file_extension": ".py",
   "mimetype": "text/x-python",
   "name": "python",
   "nbconvert_exporter": "python",
   "pygments_lexer": "ipython3",
   "version": "3.10.13"
  }
 },
 "nbformat": 4,
 "nbformat_minor": 5
}
