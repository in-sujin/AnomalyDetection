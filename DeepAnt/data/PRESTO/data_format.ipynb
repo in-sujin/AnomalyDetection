{
 "cells": [
  {
   "cell_type": "code",
   "execution_count": 74,
   "id": "48b1713a-d1ef-454e-b3cb-5cca4c23c00a",
   "metadata": {},
   "outputs": [],
   "source": [
    "import os\n",
    "import glob\n",
    "import pickle\n",
    "import numpy as np\n",
    "import matplotlib.pylab as plt\n",
    "import scipy.io\n",
    "import pandas as pd"
   ]
  },
  {
   "cell_type": "code",
   "execution_count": 75,
   "id": "00ca7051-e681-4972-b7c3-90d89ef0e3ea",
   "metadata": {},
   "outputs": [
    {
     "data": {
      "text/plain": [
       "'/deepant/data/PRESTO'"
      ]
     },
     "execution_count": 75,
     "metadata": {},
     "output_type": "execute_result"
    }
   ],
   "source": [
    "pwd"
   ]
  },
  {
   "cell_type": "markdown",
   "id": "c660dfca-76f7-4782-8e04-4074e7fe717b",
   "metadata": {},
   "source": [
    "---"
   ]
  },
  {
   "cell_type": "code",
   "execution_count": 30,
   "id": "c986ebc8-c68c-4ba8-a933-07548f00c616",
   "metadata": {},
   "outputs": [],
   "source": [
    "def mat_xz_yz(path):\n",
    "    files = glob.glob(path + \"/*.mat\")\n",
    "    files.sort()\n",
    "\n",
    "    xz_mats = []\n",
    "    yz_mats = []\n",
    "    for file in files:\n",
    "        if file.find(\"XZ\") != -1:\n",
    "            mat = scipy.io.loadmat(file)\n",
    "            xz_mats.append(mat)\n",
    "\n",
    "        elif file.find(\"YZ\") != -1:\n",
    "            print(file)\n",
    "            mat = scipy.io.loadmat(file)\n",
    "            yz_mats.append(mat)\n",
    "\n",
    "    return xz_mats, yz_mats"
   ]
  },
  {
   "cell_type": "code",
   "execution_count": 31,
   "id": "a6e802fe-ba4f-4d66-ae00-b48fb7db9985",
   "metadata": {},
   "outputs": [],
   "source": [
    "def add_data_to_dataframe(p1_xz, p1_yz, p2_xz, p2_yz, df):\n",
    "    new_data = {\n",
    "        'p1_xz_ho': p1_xz['yDataCurrentAxes1_tim'].flatten(),\n",
    "        'p1_xz_ve': p1_xz['yDataCurrentAxes2_tim'].flatten(),\n",
    "        'p1_yz_ho': p1_yz['yDataCurrentAxes1_tim'].flatten(),\n",
    "        'p1_yz_ve': p1_yz['yDataCurrentAxes2_tim'].flatten(),\n",
    "        'p2_xz_ho': p2_xz['yDataCurrentAxes1_tim'].flatten(),\n",
    "        'p2_xz_ve': p2_xz['yDataCurrentAxes2_tim'].flatten(),\n",
    "        'p2_yz_ho': p2_yz['yDataCurrentAxes1_tim'].flatten(),\n",
    "        'p2_yz_ve': p2_yz['yDataCurrentAxes2_tim'].flatten()\n",
    "    }\n",
    "    new_df = pd.DataFrame(new_data)\n",
    "    df = pd.concat([df, new_df], ignore_index=True)\n",
    "    return df"
   ]
  },
  {
   "cell_type": "markdown",
   "id": "a41b0563-cead-42a3-a869-73e04db6ac7c",
   "metadata": {},
   "source": [
    "---"
   ]
  },
  {
   "cell_type": "code",
   "execution_count": 32,
   "id": "ff507877-2e79-4e67-8144-36d02c006a82",
   "metadata": {},
   "outputs": [],
   "source": [
    "point1_path = \"P1\"\n",
    "point2_path = \"P2\""
   ]
  },
  {
   "cell_type": "code",
   "execution_count": 33,
   "id": "ac672617-657e-4570-b8fa-a84d06bc7791",
   "metadata": {},
   "outputs": [
    {
     "name": "stdout",
     "output_type": "stream",
     "text": [
      "P1/[1][YZ][Time-PSD][IOS On][Stage OFF]Normal_Measurement time 17sec_Sample rate 4000Hz.mat\n",
      "P1/[2][YZ][Time-PSD][IOS On][Stage OFF]Normal_Measurement time 17sec_Sample rate 4000Hz.mat\n",
      "P1/[3][YZ][Time-PSD][IOS On][Stage OFF]Normal_Measurement time 17sec_Sample rate 4000Hz.mat\n",
      "P1/[4][YZ][Time-PSD][IOS On][Stage OFF]Normal_Measurement time 17sec_Sample rate 4000Hz.mat\n",
      "P1/[5][YZ][Time-PSD][IOS On][Stage OFF]Normal_Measurement time 17sec_Sample rate 4000Hz.mat\n",
      "P1/[6][YZ][Time-PSD][IOS On][Stage OFF]Normal_Measurement time 17sec_Sample rate 4000Hz.mat\n",
      "P1/[7][YZ][Time-PSD][IOS On][Stage OFF]Normal_Measurement time 17sec_Sample rate 4000Hz.mat\n",
      "P1/[8][YZ][Time-PSD][IOS On][Stage OFF]Normal_Measurement time 17sec_Sample rate 4000Hz.mat\n",
      "P2/[1][YZ][Time-PSD][IOS On][Stage OFF]Normal_Measurement time 17sec_Sample rate 4100Hz.mat\n",
      "P2/[2][YZ][Time-PSD][IOS On][Stage OFF]Normal_Measurement time 17sec_Sample rate 4100Hz.mat\n",
      "P2/[3][YZ][Time-PSD][IOS On][Stage OFF]Normal_Measurement time 17sec_Sample rate 4100Hz.mat\n",
      "P2/[4][YZ][Time-PSD][IOS On][Stage OFF]Normal_Measurement time 17sec_Sample rate 4100Hz.mat\n",
      "P2/[5][YZ][Time-PSD][IOS On][Stage OFF]Normal_Measurement time 17sec_Sample rate 4100Hz.mat\n",
      "P2/[6][YZ][Time-PSD][IOS On][Stage OFF]Normal_Measurement time 17sec_Sample rate 4100Hz.mat\n",
      "P2/[7][YZ][Time-PSD][IOS On][Stage OFF]Normal_Measurement time 17sec_Sample rate 4100Hz.mat\n",
      "P2/[8][YZ][Time-PSD][IOS On][Stage OFF]Normal_Measurement time 17sec_Sample rate 4100Hz.mat\n"
     ]
    }
   ],
   "source": [
    "point1_xz_mats, point1_yz_mats = mat_xz_yz(point1_path)\n",
    "point2_xz_mats, point2_yz_mats = mat_xz_yz(point2_path)"
   ]
  },
  {
   "cell_type": "markdown",
   "id": "c31d6421-3d55-48b7-b8be-18582635b95c",
   "metadata": {},
   "source": [
    "<b>DataFrame"
   ]
  },
  {
   "cell_type": "code",
   "execution_count": 34,
   "id": "dd63113e-c895-48d9-be26-27a3743c6ee3",
   "metadata": {},
   "outputs": [],
   "source": [
    "df = pd.DataFrame(columns=['p1_xz_ho', 'p1_xz_ve', 'p1_yz_ho', 'p1_yz_ve',\n",
    "                           'p2_xz_ho', 'p2_xz_ve', 'p2_yz_ho', 'p2_yz_ve'])"
   ]
  },
  {
   "cell_type": "code",
   "execution_count": 35,
   "id": "75773e16-e77f-4ba1-b2a5-924a48ddb3a3",
   "metadata": {},
   "outputs": [
    {
     "name": "stderr",
     "output_type": "stream",
     "text": [
      "/tmp/ipykernel_352/4021337398.py:13: FutureWarning: The behavior of DataFrame concatenation with empty or all-NA entries is deprecated. In a future version, this will no longer exclude empty or all-NA columns when determining the result dtypes. To retain the old behavior, exclude the relevant entries before the concat operation.\n",
      "  df = pd.concat([df, new_df], ignore_index=True)\n"
     ]
    }
   ],
   "source": [
    "for idx in range(len(point1_xz_mats)):\n",
    "    p1_xz, p1_yz, p2_xz, p2_yz = point1_xz_mats[idx], point1_yz_mats[idx], point2_xz_mats[idx], point2_yz_mats[idx]\n",
    "    df = add_data_to_dataframe(p1_xz, p1_yz, p2_xz, p2_yz, df)"
   ]
  },
  {
   "cell_type": "code",
   "execution_count": 36,
   "id": "9bdabcf6-bce5-47e1-a006-48c6dadfbbe6",
   "metadata": {},
   "outputs": [
    {
     "data": {
      "text/plain": [
       "(557600, 8)"
      ]
     },
     "execution_count": 36,
     "metadata": {},
     "output_type": "execute_result"
    }
   ],
   "source": [
    "df.shape"
   ]
  },
  {
   "cell_type": "code",
   "execution_count": 37,
   "id": "ecc6dfec-8492-4c4e-9998-2e8ace78e2ad",
   "metadata": {},
   "outputs": [
    {
     "data": {
      "text/html": [
       "<div>\n",
       "<style scoped>\n",
       "    .dataframe tbody tr th:only-of-type {\n",
       "        vertical-align: middle;\n",
       "    }\n",
       "\n",
       "    .dataframe tbody tr th {\n",
       "        vertical-align: top;\n",
       "    }\n",
       "\n",
       "    .dataframe thead th {\n",
       "        text-align: right;\n",
       "    }\n",
       "</style>\n",
       "<table border=\"1\" class=\"dataframe\">\n",
       "  <thead>\n",
       "    <tr style=\"text-align: right;\">\n",
       "      <th></th>\n",
       "      <th>p1_xz_ho</th>\n",
       "      <th>p1_xz_ve</th>\n",
       "      <th>p1_yz_ho</th>\n",
       "      <th>p1_yz_ve</th>\n",
       "      <th>p2_xz_ho</th>\n",
       "      <th>p2_xz_ve</th>\n",
       "      <th>p2_yz_ho</th>\n",
       "      <th>p2_yz_ve</th>\n",
       "    </tr>\n",
       "  </thead>\n",
       "  <tbody>\n",
       "    <tr>\n",
       "      <th>0</th>\n",
       "      <td>0.001466</td>\n",
       "      <td>0.003326</td>\n",
       "      <td>0.000536</td>\n",
       "      <td>0.002396</td>\n",
       "      <td>-0.000394</td>\n",
       "      <td>0.002396</td>\n",
       "      <td>0.000226</td>\n",
       "      <td>0.002396</td>\n",
       "    </tr>\n",
       "    <tr>\n",
       "      <th>1</th>\n",
       "      <td>0.001466</td>\n",
       "      <td>0.009836</td>\n",
       "      <td>-0.000394</td>\n",
       "      <td>0.002396</td>\n",
       "      <td>0.000536</td>\n",
       "      <td>0.002706</td>\n",
       "      <td>0.000846</td>\n",
       "      <td>0.002706</td>\n",
       "    </tr>\n",
       "    <tr>\n",
       "      <th>2</th>\n",
       "      <td>0.003946</td>\n",
       "      <td>0.009526</td>\n",
       "      <td>-0.000394</td>\n",
       "      <td>-0.001014</td>\n",
       "      <td>0.000226</td>\n",
       "      <td>0.000846</td>\n",
       "      <td>-0.000704</td>\n",
       "      <td>0.000846</td>\n",
       "    </tr>\n",
       "    <tr>\n",
       "      <th>3</th>\n",
       "      <td>0.004566</td>\n",
       "      <td>0.007666</td>\n",
       "      <td>-0.001634</td>\n",
       "      <td>0.001776</td>\n",
       "      <td>-0.000394</td>\n",
       "      <td>0.000226</td>\n",
       "      <td>-0.000704</td>\n",
       "      <td>0.001466</td>\n",
       "    </tr>\n",
       "    <tr>\n",
       "      <th>4</th>\n",
       "      <td>0.005186</td>\n",
       "      <td>0.008906</td>\n",
       "      <td>0.004256</td>\n",
       "      <td>0.006426</td>\n",
       "      <td>0.000226</td>\n",
       "      <td>0.001776</td>\n",
       "      <td>0.000226</td>\n",
       "      <td>0.002086</td>\n",
       "    </tr>\n",
       "  </tbody>\n",
       "</table>\n",
       "</div>"
      ],
      "text/plain": [
       "   p1_xz_ho  p1_xz_ve  p1_yz_ho  p1_yz_ve  p2_xz_ho  p2_xz_ve  p2_yz_ho  \\\n",
       "0  0.001466  0.003326  0.000536  0.002396 -0.000394  0.002396  0.000226   \n",
       "1  0.001466  0.009836 -0.000394  0.002396  0.000536  0.002706  0.000846   \n",
       "2  0.003946  0.009526 -0.000394 -0.001014  0.000226  0.000846 -0.000704   \n",
       "3  0.004566  0.007666 -0.001634  0.001776 -0.000394  0.000226 -0.000704   \n",
       "4  0.005186  0.008906  0.004256  0.006426  0.000226  0.001776  0.000226   \n",
       "\n",
       "   p2_yz_ve  \n",
       "0  0.002396  \n",
       "1  0.002706  \n",
       "2  0.000846  \n",
       "3  0.001466  \n",
       "4  0.002086  "
      ]
     },
     "execution_count": 37,
     "metadata": {},
     "output_type": "execute_result"
    }
   ],
   "source": [
    "df.head()"
   ]
  },
  {
   "cell_type": "markdown",
   "id": "f0b7bdc0-26e2-4687-9792-df10004c8cdd",
   "metadata": {},
   "source": [
    "<b> Save"
   ]
  },
  {
   "cell_type": "markdown",
   "id": "1728ca7f-df41-41f4-a9a3-44a2807709e8",
   "metadata": {},
   "source": [
    "CSV file"
   ]
  },
  {
   "cell_type": "code",
   "execution_count": 38,
   "id": "62b7403a-2bf5-425b-ad43-1b9ea60706f0",
   "metadata": {},
   "outputs": [],
   "source": [
    "output_path = 'train.csv'\n",
    "df.to_csv(output_path, index=False)"
   ]
  },
  {
   "cell_type": "markdown",
   "id": "6f6fdbc3-f31f-4d31-a75e-ab6cf011a0f5",
   "metadata": {},
   "source": [
    "PKL file"
   ]
  },
  {
   "cell_type": "code",
   "execution_count": 42,
   "id": "c324a864-8e03-4c8b-bdff-65ae1a29b690",
   "metadata": {},
   "outputs": [],
   "source": [
    "output_path = 'train/train.pkl'\n",
    "df.to_pickle(output_path)"
   ]
  },
  {
   "cell_type": "markdown",
   "id": "33103d9b-1dde-478c-910c-1b98dd64fabd",
   "metadata": {},
   "source": [
    "MAT file"
   ]
  },
  {
   "cell_type": "code",
   "execution_count": 43,
   "id": "bf2a7d9e-30bb-4f42-bbdc-e770e2823dbc",
   "metadata": {},
   "outputs": [],
   "source": [
    "output_path = 'train/train.mat'\n",
    "scipy.io.savemat(output_path, {\n",
    "        'p1_xz_ho': p1_xz['yDataCurrentAxes1_tim'].flatten(),\n",
    "        'p1_xz_ve': p1_xz['yDataCurrentAxes2_tim'].flatten(),\n",
    "        'p1_yz_ho': p1_yz['yDataCurrentAxes1_tim'].flatten(),\n",
    "        'p1_yz_ve': p1_yz['yDataCurrentAxes2_tim'].flatten(),\n",
    "        'p2_xz_ho': p2_xz['yDataCurrentAxes1_tim'].flatten(),\n",
    "        'p2_xz_ve': p2_xz['yDataCurrentAxes2_tim'].flatten(),\n",
    "        'p2_yz_ho': p2_yz['yDataCurrentAxes1_tim'].flatten(),\n",
    "        'p2_yz_ve': p2_yz['yDataCurrentAxes2_tim'].flatten()\n",
    "    })"
   ]
  },
  {
   "cell_type": "markdown",
   "id": "63ed0855-1b96-4ae1-add3-8a6250e482f8",
   "metadata": {},
   "source": [
    "---"
   ]
  },
  {
   "cell_type": "markdown",
   "id": "ba26b67f-3fb4-4cbd-8d76-2e84dc8dd1c6",
   "metadata": {},
   "source": [
    "<b>TEST"
   ]
  },
  {
   "cell_type": "markdown",
   "id": "d31df7af-7e10-4651-af59-574e0e3290a5",
   "metadata": {},
   "source": [
    "CSV file"
   ]
  },
  {
   "cell_type": "code",
   "execution_count": 25,
   "id": "e2313e6f-093e-471f-8967-039a63db618a",
   "metadata": {},
   "outputs": [
    {
     "data": {
      "text/html": [
       "<div>\n",
       "<style scoped>\n",
       "    .dataframe tbody tr th:only-of-type {\n",
       "        vertical-align: middle;\n",
       "    }\n",
       "\n",
       "    .dataframe tbody tr th {\n",
       "        vertical-align: top;\n",
       "    }\n",
       "\n",
       "    .dataframe thead th {\n",
       "        text-align: right;\n",
       "    }\n",
       "</style>\n",
       "<table border=\"1\" class=\"dataframe\">\n",
       "  <thead>\n",
       "    <tr style=\"text-align: right;\">\n",
       "      <th></th>\n",
       "      <th>p1_xz_ho</th>\n",
       "      <th>p1_xz_ve</th>\n",
       "      <th>p1_yz_ho</th>\n",
       "      <th>p1_yz_ve</th>\n",
       "      <th>p2_xz_ho</th>\n",
       "      <th>p2_xz_ve</th>\n",
       "      <th>p2_yz_ho</th>\n",
       "      <th>p2_yz_ve</th>\n",
       "    </tr>\n",
       "  </thead>\n",
       "  <tbody>\n",
       "    <tr>\n",
       "      <th>0</th>\n",
       "      <td>0.001466</td>\n",
       "      <td>0.003326</td>\n",
       "      <td>0.000536</td>\n",
       "      <td>0.002396</td>\n",
       "      <td>-0.000394</td>\n",
       "      <td>0.002396</td>\n",
       "      <td>0.000226</td>\n",
       "      <td>0.002396</td>\n",
       "    </tr>\n",
       "    <tr>\n",
       "      <th>1</th>\n",
       "      <td>0.001466</td>\n",
       "      <td>0.009836</td>\n",
       "      <td>-0.000394</td>\n",
       "      <td>0.002396</td>\n",
       "      <td>0.000536</td>\n",
       "      <td>0.002706</td>\n",
       "      <td>0.000846</td>\n",
       "      <td>0.002706</td>\n",
       "    </tr>\n",
       "    <tr>\n",
       "      <th>2</th>\n",
       "      <td>0.003946</td>\n",
       "      <td>0.009526</td>\n",
       "      <td>-0.000394</td>\n",
       "      <td>-0.001014</td>\n",
       "      <td>0.000226</td>\n",
       "      <td>0.000846</td>\n",
       "      <td>-0.000704</td>\n",
       "      <td>0.000846</td>\n",
       "    </tr>\n",
       "    <tr>\n",
       "      <th>3</th>\n",
       "      <td>0.004566</td>\n",
       "      <td>0.007666</td>\n",
       "      <td>-0.001634</td>\n",
       "      <td>0.001776</td>\n",
       "      <td>-0.000394</td>\n",
       "      <td>0.000226</td>\n",
       "      <td>-0.000704</td>\n",
       "      <td>0.001466</td>\n",
       "    </tr>\n",
       "    <tr>\n",
       "      <th>4</th>\n",
       "      <td>0.005186</td>\n",
       "      <td>0.008906</td>\n",
       "      <td>0.004256</td>\n",
       "      <td>0.006426</td>\n",
       "      <td>0.000226</td>\n",
       "      <td>0.001776</td>\n",
       "      <td>0.000226</td>\n",
       "      <td>0.002086</td>\n",
       "    </tr>\n",
       "    <tr>\n",
       "      <th>...</th>\n",
       "      <td>...</td>\n",
       "      <td>...</td>\n",
       "      <td>...</td>\n",
       "      <td>...</td>\n",
       "      <td>...</td>\n",
       "      <td>...</td>\n",
       "      <td>...</td>\n",
       "      <td>...</td>\n",
       "    </tr>\n",
       "    <tr>\n",
       "      <th>139395</th>\n",
       "      <td>0.000846</td>\n",
       "      <td>0.000846</td>\n",
       "      <td>0.001466</td>\n",
       "      <td>0.002086</td>\n",
       "      <td>-0.000394</td>\n",
       "      <td>0.000536</td>\n",
       "      <td>-0.000394</td>\n",
       "      <td>-0.001324</td>\n",
       "    </tr>\n",
       "    <tr>\n",
       "      <th>139396</th>\n",
       "      <td>-0.000704</td>\n",
       "      <td>0.003636</td>\n",
       "      <td>0.000536</td>\n",
       "      <td>0.002706</td>\n",
       "      <td>-0.000394</td>\n",
       "      <td>0.001466</td>\n",
       "      <td>-0.000704</td>\n",
       "      <td>0.003326</td>\n",
       "    </tr>\n",
       "    <tr>\n",
       "      <th>139397</th>\n",
       "      <td>-0.000084</td>\n",
       "      <td>0.003016</td>\n",
       "      <td>-0.000084</td>\n",
       "      <td>-0.000084</td>\n",
       "      <td>-0.000084</td>\n",
       "      <td>0.002706</td>\n",
       "      <td>-0.000084</td>\n",
       "      <td>0.003946</td>\n",
       "    </tr>\n",
       "    <tr>\n",
       "      <th>139398</th>\n",
       "      <td>0.000846</td>\n",
       "      <td>0.000536</td>\n",
       "      <td>0.001156</td>\n",
       "      <td>0.002706</td>\n",
       "      <td>-0.000084</td>\n",
       "      <td>0.001156</td>\n",
       "      <td>0.000226</td>\n",
       "      <td>0.004876</td>\n",
       "    </tr>\n",
       "    <tr>\n",
       "      <th>139399</th>\n",
       "      <td>-0.000704</td>\n",
       "      <td>0.000846</td>\n",
       "      <td>0.002396</td>\n",
       "      <td>0.004256</td>\n",
       "      <td>-0.000084</td>\n",
       "      <td>0.000226</td>\n",
       "      <td>-0.000704</td>\n",
       "      <td>0.005186</td>\n",
       "    </tr>\n",
       "  </tbody>\n",
       "</table>\n",
       "<p>139400 rows × 8 columns</p>\n",
       "</div>"
      ],
      "text/plain": [
       "        p1_xz_ho  p1_xz_ve  p1_yz_ho  p1_yz_ve  p2_xz_ho  p2_xz_ve  p2_yz_ho  \\\n",
       "0       0.001466  0.003326  0.000536  0.002396 -0.000394  0.002396  0.000226   \n",
       "1       0.001466  0.009836 -0.000394  0.002396  0.000536  0.002706  0.000846   \n",
       "2       0.003946  0.009526 -0.000394 -0.001014  0.000226  0.000846 -0.000704   \n",
       "3       0.004566  0.007666 -0.001634  0.001776 -0.000394  0.000226 -0.000704   \n",
       "4       0.005186  0.008906  0.004256  0.006426  0.000226  0.001776  0.000226   \n",
       "...          ...       ...       ...       ...       ...       ...       ...   \n",
       "139395  0.000846  0.000846  0.001466  0.002086 -0.000394  0.000536 -0.000394   \n",
       "139396 -0.000704  0.003636  0.000536  0.002706 -0.000394  0.001466 -0.000704   \n",
       "139397 -0.000084  0.003016 -0.000084 -0.000084 -0.000084  0.002706 -0.000084   \n",
       "139398  0.000846  0.000536  0.001156  0.002706 -0.000084  0.001156  0.000226   \n",
       "139399 -0.000704  0.000846  0.002396  0.004256 -0.000084  0.000226 -0.000704   \n",
       "\n",
       "        p2_yz_ve  \n",
       "0       0.002396  \n",
       "1       0.002706  \n",
       "2       0.000846  \n",
       "3       0.001466  \n",
       "4       0.002086  \n",
       "...          ...  \n",
       "139395 -0.001324  \n",
       "139396  0.003326  \n",
       "139397  0.003946  \n",
       "139398  0.004876  \n",
       "139399  0.005186  \n",
       "\n",
       "[139400 rows x 8 columns]"
      ]
     },
     "execution_count": 25,
     "metadata": {},
     "output_type": "execute_result"
    }
   ],
   "source": [
    "output_path = 'train/train.csv'\n",
    "\n",
    "test_csv = pd.read_csv(output_path)\n",
    "test_csv"
   ]
  },
  {
   "cell_type": "markdown",
   "id": "761264a5-0a6d-439a-b6dd-476416e4a941",
   "metadata": {},
   "source": [
    "PKL file"
   ]
  },
  {
   "cell_type": "code",
   "execution_count": 26,
   "id": "599ca9ed-4eb4-4283-8a3f-f0f31bfba012",
   "metadata": {},
   "outputs": [
    {
     "data": {
      "text/html": [
       "<div>\n",
       "<style scoped>\n",
       "    .dataframe tbody tr th:only-of-type {\n",
       "        vertical-align: middle;\n",
       "    }\n",
       "\n",
       "    .dataframe tbody tr th {\n",
       "        vertical-align: top;\n",
       "    }\n",
       "\n",
       "    .dataframe thead th {\n",
       "        text-align: right;\n",
       "    }\n",
       "</style>\n",
       "<table border=\"1\" class=\"dataframe\">\n",
       "  <thead>\n",
       "    <tr style=\"text-align: right;\">\n",
       "      <th></th>\n",
       "      <th>p1_xz_ho</th>\n",
       "      <th>p1_xz_ve</th>\n",
       "      <th>p1_yz_ho</th>\n",
       "      <th>p1_yz_ve</th>\n",
       "      <th>p2_xz_ho</th>\n",
       "      <th>p2_xz_ve</th>\n",
       "      <th>p2_yz_ho</th>\n",
       "      <th>p2_yz_ve</th>\n",
       "    </tr>\n",
       "  </thead>\n",
       "  <tbody>\n",
       "    <tr>\n",
       "      <th>0</th>\n",
       "      <td>0.001466</td>\n",
       "      <td>0.003326</td>\n",
       "      <td>0.000536</td>\n",
       "      <td>0.002396</td>\n",
       "      <td>-0.000394</td>\n",
       "      <td>0.002396</td>\n",
       "      <td>0.000226</td>\n",
       "      <td>0.002396</td>\n",
       "    </tr>\n",
       "    <tr>\n",
       "      <th>1</th>\n",
       "      <td>0.001466</td>\n",
       "      <td>0.009836</td>\n",
       "      <td>-0.000394</td>\n",
       "      <td>0.002396</td>\n",
       "      <td>0.000536</td>\n",
       "      <td>0.002706</td>\n",
       "      <td>0.000846</td>\n",
       "      <td>0.002706</td>\n",
       "    </tr>\n",
       "    <tr>\n",
       "      <th>2</th>\n",
       "      <td>0.003946</td>\n",
       "      <td>0.009526</td>\n",
       "      <td>-0.000394</td>\n",
       "      <td>-0.001014</td>\n",
       "      <td>0.000226</td>\n",
       "      <td>0.000846</td>\n",
       "      <td>-0.000704</td>\n",
       "      <td>0.000846</td>\n",
       "    </tr>\n",
       "    <tr>\n",
       "      <th>3</th>\n",
       "      <td>0.004566</td>\n",
       "      <td>0.007666</td>\n",
       "      <td>-0.001634</td>\n",
       "      <td>0.001776</td>\n",
       "      <td>-0.000394</td>\n",
       "      <td>0.000226</td>\n",
       "      <td>-0.000704</td>\n",
       "      <td>0.001466</td>\n",
       "    </tr>\n",
       "    <tr>\n",
       "      <th>4</th>\n",
       "      <td>0.005186</td>\n",
       "      <td>0.008906</td>\n",
       "      <td>0.004256</td>\n",
       "      <td>0.006426</td>\n",
       "      <td>0.000226</td>\n",
       "      <td>0.001776</td>\n",
       "      <td>0.000226</td>\n",
       "      <td>0.002086</td>\n",
       "    </tr>\n",
       "    <tr>\n",
       "      <th>...</th>\n",
       "      <td>...</td>\n",
       "      <td>...</td>\n",
       "      <td>...</td>\n",
       "      <td>...</td>\n",
       "      <td>...</td>\n",
       "      <td>...</td>\n",
       "      <td>...</td>\n",
       "      <td>...</td>\n",
       "    </tr>\n",
       "    <tr>\n",
       "      <th>139395</th>\n",
       "      <td>0.000846</td>\n",
       "      <td>0.000846</td>\n",
       "      <td>0.001466</td>\n",
       "      <td>0.002086</td>\n",
       "      <td>-0.000394</td>\n",
       "      <td>0.000536</td>\n",
       "      <td>-0.000394</td>\n",
       "      <td>-0.001324</td>\n",
       "    </tr>\n",
       "    <tr>\n",
       "      <th>139396</th>\n",
       "      <td>-0.000704</td>\n",
       "      <td>0.003636</td>\n",
       "      <td>0.000536</td>\n",
       "      <td>0.002706</td>\n",
       "      <td>-0.000394</td>\n",
       "      <td>0.001466</td>\n",
       "      <td>-0.000704</td>\n",
       "      <td>0.003326</td>\n",
       "    </tr>\n",
       "    <tr>\n",
       "      <th>139397</th>\n",
       "      <td>-0.000084</td>\n",
       "      <td>0.003016</td>\n",
       "      <td>-0.000084</td>\n",
       "      <td>-0.000084</td>\n",
       "      <td>-0.000084</td>\n",
       "      <td>0.002706</td>\n",
       "      <td>-0.000084</td>\n",
       "      <td>0.003946</td>\n",
       "    </tr>\n",
       "    <tr>\n",
       "      <th>139398</th>\n",
       "      <td>0.000846</td>\n",
       "      <td>0.000536</td>\n",
       "      <td>0.001156</td>\n",
       "      <td>0.002706</td>\n",
       "      <td>-0.000084</td>\n",
       "      <td>0.001156</td>\n",
       "      <td>0.000226</td>\n",
       "      <td>0.004876</td>\n",
       "    </tr>\n",
       "    <tr>\n",
       "      <th>139399</th>\n",
       "      <td>-0.000704</td>\n",
       "      <td>0.000846</td>\n",
       "      <td>0.002396</td>\n",
       "      <td>0.004256</td>\n",
       "      <td>-0.000084</td>\n",
       "      <td>0.000226</td>\n",
       "      <td>-0.000704</td>\n",
       "      <td>0.005186</td>\n",
       "    </tr>\n",
       "  </tbody>\n",
       "</table>\n",
       "<p>139400 rows × 8 columns</p>\n",
       "</div>"
      ],
      "text/plain": [
       "        p1_xz_ho  p1_xz_ve  p1_yz_ho  p1_yz_ve  p2_xz_ho  p2_xz_ve  p2_yz_ho  \\\n",
       "0       0.001466  0.003326  0.000536  0.002396 -0.000394  0.002396  0.000226   \n",
       "1       0.001466  0.009836 -0.000394  0.002396  0.000536  0.002706  0.000846   \n",
       "2       0.003946  0.009526 -0.000394 -0.001014  0.000226  0.000846 -0.000704   \n",
       "3       0.004566  0.007666 -0.001634  0.001776 -0.000394  0.000226 -0.000704   \n",
       "4       0.005186  0.008906  0.004256  0.006426  0.000226  0.001776  0.000226   \n",
       "...          ...       ...       ...       ...       ...       ...       ...   \n",
       "139395  0.000846  0.000846  0.001466  0.002086 -0.000394  0.000536 -0.000394   \n",
       "139396 -0.000704  0.003636  0.000536  0.002706 -0.000394  0.001466 -0.000704   \n",
       "139397 -0.000084  0.003016 -0.000084 -0.000084 -0.000084  0.002706 -0.000084   \n",
       "139398  0.000846  0.000536  0.001156  0.002706 -0.000084  0.001156  0.000226   \n",
       "139399 -0.000704  0.000846  0.002396  0.004256 -0.000084  0.000226 -0.000704   \n",
       "\n",
       "        p2_yz_ve  \n",
       "0       0.002396  \n",
       "1       0.002706  \n",
       "2       0.000846  \n",
       "3       0.001466  \n",
       "4       0.002086  \n",
       "...          ...  \n",
       "139395 -0.001324  \n",
       "139396  0.003326  \n",
       "139397  0.003946  \n",
       "139398  0.004876  \n",
       "139399  0.005186  \n",
       "\n",
       "[139400 rows x 8 columns]"
      ]
     },
     "execution_count": 26,
     "metadata": {},
     "output_type": "execute_result"
    }
   ],
   "source": [
    "output_path = 'train/train.pkl'\n",
    "\n",
    "test_pkl = pd.read_pickle(output_path)\n",
    "test_pkl"
   ]
  },
  {
   "cell_type": "markdown",
   "id": "a609f7ff-f8a5-48dd-b823-3485ffe32375",
   "metadata": {},
   "source": [
    "MAT file"
   ]
  },
  {
   "cell_type": "code",
   "execution_count": 27,
   "id": "6cd4dc47-9438-471b-b7aa-83fefc91efbe",
   "metadata": {},
   "outputs": [
    {
     "data": {
      "text/plain": [
       "{'__header__': b'MATLAB 5.0 MAT-file Platform: posix, Created on: Wed Jul 17 07:27:50 2024',\n",
       " '__version__': '1.0',\n",
       " '__globals__': [],\n",
       " 'p1_xz_ho': array([[ 1.46597096e-03,  1.46597096e-03,  3.94585510e-03, ...,\n",
       "         -8.39566294e-05,  8.45999922e-04, -7.03927663e-04]]),\n",
       " 'p1_xz_ve': array([[0.00332588, 0.00983558, 0.00952559, ..., 0.0030159 , 0.00053601,\n",
       "         0.000846  ]]),\n",
       " 'p1_yz_ho': array([[ 5.36014405e-04, -3.93942146e-04, -3.93942146e-04, ...,\n",
       "         -8.39566294e-05,  1.15598544e-03,  2.39592751e-03]]),\n",
       " 'p1_yz_ve': array([[ 2.39592751e-03,  2.39592751e-03, -1.01391318e-03, ...,\n",
       "         -8.39566294e-05,  2.70591303e-03,  4.25584062e-03]]),\n",
       " 'p2_xz_ho': array([[-3.93942146e-04,  5.36014405e-04,  2.26028888e-04, ...,\n",
       "         -8.39566294e-05, -8.39566294e-05, -8.39566294e-05]]),\n",
       " 'p2_xz_ve': array([[0.00239593, 0.00270591, 0.000846  , ..., 0.00270591, 0.00115599,\n",
       "         0.00022603]]),\n",
       " 'p2_yz_ho': array([[ 2.26028888e-04,  8.45999922e-04, -7.03927663e-04, ...,\n",
       "         -8.39566294e-05,  2.26028888e-04, -7.03927663e-04]]),\n",
       " 'p2_yz_ve': array([[0.00239593, 0.00270591, 0.000846  , ..., 0.00394586, 0.00487581,\n",
       "         0.0051858 ]])}"
      ]
     },
     "execution_count": 27,
     "metadata": {},
     "output_type": "execute_result"
    }
   ],
   "source": [
    "output_path = 'train/train.mat'\n",
    "\n",
    "test_mat = scipy.io.loadmat(output_path)\n",
    "test_mat"
   ]
  },
  {
   "cell_type": "markdown",
   "id": "0a28793f-f29d-4175-be82-d0a03a1ec59e",
   "metadata": {},
   "source": [
    "---"
   ]
  },
  {
   "cell_type": "code",
   "execution_count": 41,
   "id": "cf574c90-d9ff-45b5-a6ab-cba865d002af",
   "metadata": {},
   "outputs": [],
   "source": [
    "file = 'test_anomaly.mat'\n",
    "test_mat = scipy.io.loadmat(file)"
   ]
  },
  {
   "cell_type": "code",
   "execution_count": 58,
   "id": "990f5182-c038-43d5-9215-80b1578cecef",
   "metadata": {},
   "outputs": [
    {
     "data": {
      "text/plain": [
       "{'__header__': b'MATLAB 5.0 MAT-file Platform: posix, Created on: Thu Jun 27 14:00:10 2024',\n",
       " '__version__': '1.0',\n",
       " '__globals__': [],\n",
       " 'data_with_anomalies': array([[-3.93942146e-04,  8.45999922e-04,  2.26028888e-04, ...,\n",
       "         -8.39566294e-05,  5.80576821e-03,  9.83557996e-03],\n",
       "        [-1.01391318e-03,  1.15598544e-03, -8.39566294e-05, ...,\n",
       "          8.45999922e-04,  6.73572477e-03,  8.28565236e-03],\n",
       "        [-1.01391318e-03,  2.08594199e-03, -3.93942146e-04, ...,\n",
       "          2.39592751e-03,  6.42573925e-03,  9.21560892e-03],\n",
       "        ...,\n",
       "        [ 1.46597096e-03, -8.39566294e-05,  8.45999922e-04, ...,\n",
       "          1.77595647e-03, -8.39566294e-05,  1.77595647e-03],\n",
       "        [ 8.45999922e-04,  4.87581165e-03, -3.93942146e-04, ...,\n",
       "         -8.39566294e-05,  8.45999922e-04, -3.93942146e-04],\n",
       "        [ 2.26028888e-04,  3.32588406e-03, -1.63388421e-03, ...,\n",
       "          2.08594199e-03,  8.45999922e-04,  3.63586958e-03]])}"
      ]
     },
     "execution_count": 58,
     "metadata": {},
     "output_type": "execute_result"
    }
   ],
   "source": [
    "test_mat"
   ]
  },
  {
   "cell_type": "code",
   "execution_count": 61,
   "id": "b6d81ecf-8df7-4df5-bfe7-fb26250531e7",
   "metadata": {},
   "outputs": [],
   "source": [
    "test_df = pd.DataFrame(test_mat['data_with_anomalies'], columns=['p1_xz_ho', 'p1_xz_ve', 'p1_yz_ho', 'p1_yz_ve',\n",
    "                                                                 'p2_xz_ho', 'p2_xz_ve', 'p2_yz_ho', 'p2_yz_ve'])"
   ]
  },
  {
   "cell_type": "code",
   "execution_count": 62,
   "id": "6970af9e-9b93-436d-b758-c3fa0563dba2",
   "metadata": {},
   "outputs": [
    {
     "data": {
      "text/html": [
       "<div>\n",
       "<style scoped>\n",
       "    .dataframe tbody tr th:only-of-type {\n",
       "        vertical-align: middle;\n",
       "    }\n",
       "\n",
       "    .dataframe tbody tr th {\n",
       "        vertical-align: top;\n",
       "    }\n",
       "\n",
       "    .dataframe thead th {\n",
       "        text-align: right;\n",
       "    }\n",
       "</style>\n",
       "<table border=\"1\" class=\"dataframe\">\n",
       "  <thead>\n",
       "    <tr style=\"text-align: right;\">\n",
       "      <th></th>\n",
       "      <th>p1_xz_ho</th>\n",
       "      <th>p1_xz_ve</th>\n",
       "      <th>p1_yz_ho</th>\n",
       "      <th>p1_yz_ve</th>\n",
       "      <th>p2_xz_ho</th>\n",
       "      <th>p2_xz_ve</th>\n",
       "      <th>p2_yz_ho</th>\n",
       "      <th>p2_yz_ve</th>\n",
       "    </tr>\n",
       "  </thead>\n",
       "  <tbody>\n",
       "    <tr>\n",
       "      <th>0</th>\n",
       "      <td>-0.000394</td>\n",
       "      <td>0.000846</td>\n",
       "      <td>0.000226</td>\n",
       "      <td>0.002706</td>\n",
       "      <td>0.000226</td>\n",
       "      <td>-0.000084</td>\n",
       "      <td>0.005806</td>\n",
       "      <td>0.009836</td>\n",
       "    </tr>\n",
       "    <tr>\n",
       "      <th>1</th>\n",
       "      <td>-0.001014</td>\n",
       "      <td>0.001156</td>\n",
       "      <td>-0.000084</td>\n",
       "      <td>0.002706</td>\n",
       "      <td>-0.001014</td>\n",
       "      <td>0.000846</td>\n",
       "      <td>0.006736</td>\n",
       "      <td>0.008286</td>\n",
       "    </tr>\n",
       "    <tr>\n",
       "      <th>2</th>\n",
       "      <td>-0.001014</td>\n",
       "      <td>0.002086</td>\n",
       "      <td>-0.000394</td>\n",
       "      <td>0.001776</td>\n",
       "      <td>-0.001944</td>\n",
       "      <td>0.002396</td>\n",
       "      <td>0.006426</td>\n",
       "      <td>0.009216</td>\n",
       "    </tr>\n",
       "    <tr>\n",
       "      <th>3</th>\n",
       "      <td>-0.000394</td>\n",
       "      <td>0.001466</td>\n",
       "      <td>-0.004114</td>\n",
       "      <td>0.005186</td>\n",
       "      <td>-0.001014</td>\n",
       "      <td>0.001776</td>\n",
       "      <td>0.004566</td>\n",
       "      <td>0.009216</td>\n",
       "    </tr>\n",
       "    <tr>\n",
       "      <th>4</th>\n",
       "      <td>0.000846</td>\n",
       "      <td>-0.000394</td>\n",
       "      <td>-0.004114</td>\n",
       "      <td>0.003016</td>\n",
       "      <td>0.000846</td>\n",
       "      <td>0.000846</td>\n",
       "      <td>0.006116</td>\n",
       "      <td>0.007046</td>\n",
       "    </tr>\n",
       "  </tbody>\n",
       "</table>\n",
       "</div>"
      ],
      "text/plain": [
       "   p1_xz_ho  p1_xz_ve  p1_yz_ho  p1_yz_ve  p2_xz_ho  p2_xz_ve  p2_yz_ho  \\\n",
       "0 -0.000394  0.000846  0.000226  0.002706  0.000226 -0.000084  0.005806   \n",
       "1 -0.001014  0.001156 -0.000084  0.002706 -0.001014  0.000846  0.006736   \n",
       "2 -0.001014  0.002086 -0.000394  0.001776 -0.001944  0.002396  0.006426   \n",
       "3 -0.000394  0.001466 -0.004114  0.005186 -0.001014  0.001776  0.004566   \n",
       "4  0.000846 -0.000394 -0.004114  0.003016  0.000846  0.000846  0.006116   \n",
       "\n",
       "   p2_yz_ve  \n",
       "0  0.009836  \n",
       "1  0.008286  \n",
       "2  0.009216  \n",
       "3  0.009216  \n",
       "4  0.007046  "
      ]
     },
     "execution_count": 62,
     "metadata": {},
     "output_type": "execute_result"
    }
   ],
   "source": [
    "test_df.head()"
   ]
  },
  {
   "cell_type": "code",
   "execution_count": 63,
   "id": "398e78ac-e25c-4b61-ad55-876d7480a77f",
   "metadata": {},
   "outputs": [],
   "source": [
    "file = 'test_anomaly_label.mat'\n",
    "label_mat = scipy.io.loadmat(file)"
   ]
  },
  {
   "cell_type": "code",
   "execution_count": 64,
   "id": "d69cb0c0-d180-442b-b2c7-7e15569c4ac7",
   "metadata": {},
   "outputs": [
    {
     "data": {
      "text/plain": [
       "{'__header__': b'MATLAB 5.0 MAT-file Platform: posix, Created on: Thu Jun 27 14:14:57 2024',\n",
       " '__version__': '1.0',\n",
       " '__globals__': [],\n",
       " 'point': array([[19810,     6],\n",
       "        [ 5039,     0],\n",
       "        [28096,     4],\n",
       "        [54197,     5],\n",
       "        [19929,     7]], dtype=int32),\n",
       " 'contextual': array([[43050,     4],\n",
       "        [43051,     4],\n",
       "        [43052,     4],\n",
       "        ...,\n",
       "        [12758,     3],\n",
       "        [12759,     3],\n",
       "        [12760,     3]], dtype=int32)}"
      ]
     },
     "execution_count": 64,
     "metadata": {},
     "output_type": "execute_result"
    }
   ],
   "source": [
    "label_mat"
   ]
  },
  {
   "cell_type": "code",
   "execution_count": 66,
   "id": "9c496734-41f4-4f36-b324-eff46b29d907",
   "metadata": {},
   "outputs": [],
   "source": [
    "combined_anomalies = np.vstack((label_mat['point'], label_mat['contextual']))"
   ]
  },
  {
   "cell_type": "code",
   "execution_count": 69,
   "id": "34409086-b5af-4b07-8e80-4fc1f59159e9",
   "metadata": {},
   "outputs": [],
   "source": [
    "test_df['attack'] = 0"
   ]
  },
  {
   "cell_type": "code",
   "execution_count": 70,
   "id": "650d93b7-15ae-472a-88f1-39fdd49cbcb2",
   "metadata": {},
   "outputs": [],
   "source": [
    "for anomaly in combined_anomalies:\n",
    "    position, feature = anomaly\n",
    "    test_df.loc[position, 'attack'] = 1"
   ]
  },
  {
   "cell_type": "code",
   "execution_count": 72,
   "id": "0c6d2b0e-b135-4262-87e6-f4c5ba2913e3",
   "metadata": {},
   "outputs": [
    {
     "data": {
      "text/html": [
       "<div>\n",
       "<style scoped>\n",
       "    .dataframe tbody tr th:only-of-type {\n",
       "        vertical-align: middle;\n",
       "    }\n",
       "\n",
       "    .dataframe tbody tr th {\n",
       "        vertical-align: top;\n",
       "    }\n",
       "\n",
       "    .dataframe thead th {\n",
       "        text-align: right;\n",
       "    }\n",
       "</style>\n",
       "<table border=\"1\" class=\"dataframe\">\n",
       "  <thead>\n",
       "    <tr style=\"text-align: right;\">\n",
       "      <th></th>\n",
       "      <th>p1_xz_ho</th>\n",
       "      <th>p1_xz_ve</th>\n",
       "      <th>p1_yz_ho</th>\n",
       "      <th>p1_yz_ve</th>\n",
       "      <th>p2_xz_ho</th>\n",
       "      <th>p2_xz_ve</th>\n",
       "      <th>p2_yz_ho</th>\n",
       "      <th>p2_yz_ve</th>\n",
       "      <th>attack</th>\n",
       "    </tr>\n",
       "  </thead>\n",
       "  <tbody>\n",
       "    <tr>\n",
       "      <th>0</th>\n",
       "      <td>-0.000394</td>\n",
       "      <td>0.000846</td>\n",
       "      <td>0.000226</td>\n",
       "      <td>0.002706</td>\n",
       "      <td>0.000226</td>\n",
       "      <td>-0.000084</td>\n",
       "      <td>0.005806</td>\n",
       "      <td>0.009836</td>\n",
       "      <td>0</td>\n",
       "    </tr>\n",
       "    <tr>\n",
       "      <th>1</th>\n",
       "      <td>-0.001014</td>\n",
       "      <td>0.001156</td>\n",
       "      <td>-0.000084</td>\n",
       "      <td>0.002706</td>\n",
       "      <td>-0.001014</td>\n",
       "      <td>0.000846</td>\n",
       "      <td>0.006736</td>\n",
       "      <td>0.008286</td>\n",
       "      <td>0</td>\n",
       "    </tr>\n",
       "    <tr>\n",
       "      <th>2</th>\n",
       "      <td>-0.001014</td>\n",
       "      <td>0.002086</td>\n",
       "      <td>-0.000394</td>\n",
       "      <td>0.001776</td>\n",
       "      <td>-0.001944</td>\n",
       "      <td>0.002396</td>\n",
       "      <td>0.006426</td>\n",
       "      <td>0.009216</td>\n",
       "      <td>0</td>\n",
       "    </tr>\n",
       "    <tr>\n",
       "      <th>3</th>\n",
       "      <td>-0.000394</td>\n",
       "      <td>0.001466</td>\n",
       "      <td>-0.004114</td>\n",
       "      <td>0.005186</td>\n",
       "      <td>-0.001014</td>\n",
       "      <td>0.001776</td>\n",
       "      <td>0.004566</td>\n",
       "      <td>0.009216</td>\n",
       "      <td>0</td>\n",
       "    </tr>\n",
       "    <tr>\n",
       "      <th>4</th>\n",
       "      <td>0.000846</td>\n",
       "      <td>-0.000394</td>\n",
       "      <td>-0.004114</td>\n",
       "      <td>0.003016</td>\n",
       "      <td>0.000846</td>\n",
       "      <td>0.000846</td>\n",
       "      <td>0.006116</td>\n",
       "      <td>0.007046</td>\n",
       "      <td>0</td>\n",
       "    </tr>\n",
       "  </tbody>\n",
       "</table>\n",
       "</div>"
      ],
      "text/plain": [
       "   p1_xz_ho  p1_xz_ve  p1_yz_ho  p1_yz_ve  p2_xz_ho  p2_xz_ve  p2_yz_ho  \\\n",
       "0 -0.000394  0.000846  0.000226  0.002706  0.000226 -0.000084  0.005806   \n",
       "1 -0.001014  0.001156 -0.000084  0.002706 -0.001014  0.000846  0.006736   \n",
       "2 -0.001014  0.002086 -0.000394  0.001776 -0.001944  0.002396  0.006426   \n",
       "3 -0.000394  0.001466 -0.004114  0.005186 -0.001014  0.001776  0.004566   \n",
       "4  0.000846 -0.000394 -0.004114  0.003016  0.000846  0.000846  0.006116   \n",
       "\n",
       "   p2_yz_ve  attack  \n",
       "0  0.009836       0  \n",
       "1  0.008286       0  \n",
       "2  0.009216       0  \n",
       "3  0.009216       0  \n",
       "4  0.007046       0  "
      ]
     },
     "execution_count": 72,
     "metadata": {},
     "output_type": "execute_result"
    }
   ],
   "source": [
    "test_df.head()"
   ]
  },
  {
   "cell_type": "code",
   "execution_count": 73,
   "id": "01ebce21-45be-44bf-a153-9b696af8bb5b",
   "metadata": {},
   "outputs": [],
   "source": [
    "test_df.to_csv('test.csv', index=False)"
   ]
  }
 ],
 "metadata": {
  "kernelspec": {
   "display_name": "Python 3 (ipykernel)",
   "language": "python",
   "name": "python3"
  },
  "language_info": {
   "codemirror_mode": {
    "name": "ipython",
    "version": 3
   },
   "file_extension": ".py",
   "mimetype": "text/x-python",
   "name": "python",
   "nbconvert_exporter": "python",
   "pygments_lexer": "ipython3",
   "version": "3.10.13"
  }
 },
 "nbformat": 4,
 "nbformat_minor": 5
}
